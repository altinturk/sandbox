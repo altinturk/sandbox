{
 "cells": [
  {
   "cell_type": "markdown",
   "metadata": {},
   "source": [
    "YT Extraction using python\n",
    "Complete code with OpenAI integration is here https://github.com/daronyondem/video-transcript-analzyer/"
   ]
  },
  {
   "cell_type": "code",
   "execution_count": null,
   "metadata": {},
   "outputs": [],
   "source": [
    "#! pip install openai --upgrade\n",
    "#! pip install langchain --upgrade\n",
    "! pip install python-dotenv\n",
    "! pip install srt\n",
    "! pip install codecs\n",
    "#! pip install tiktoken"
   ]
  },
  {
   "cell_type": "markdown",
   "metadata": {},
   "source": [
    "YT video download"
   ]
  },
  {
   "cell_type": "code",
   "execution_count": null,
   "metadata": {},
   "outputs": [],
   "source": [
    "from pytube import YouTube\n",
    "from pydub import AudioSegment\n",
    "import subprocess\n",
    "import os\n",
    "\n",
    "# Improved: Added error handling and streamlined audio format\n",
    "\n",
    "def download_video(youtube_link: str, output_filename: str = \"stream\"):\n",
    "    \"\"\"Downloads the video stream from a YouTube video.\"\"\"\n",
    "    try:\n",
    "        youtube = YouTube(youtube_link)\n",
    "        # Selecting the best audio stream\n",
    "        video_stream = youtube.streams.first()\n",
    "        if not video_stream:\n",
    "            raise Exception(\"No video stream found in the YouTube video.\")\n",
    "\n",
    "        # Downloading and saving the stream\n",
    "        video_stream.download(filename=f\"{output_filename}.mp4\")\n",
    "\n",
    "    except Exception as e:\n",
    "        print(f\"Error downloading video: {e}\")\n",
    "\n",
    "# YouTube video URL\n",
    "url = 'https://www.youtube.com/watch?v=cccccc'\n",
    "\n",
    "download_video(url)"
   ]
  },
  {
   "cell_type": "markdown",
   "metadata": {},
   "source": [
    "YT Audio extract"
   ]
  },
  {
   "cell_type": "code",
   "execution_count": null,
   "metadata": {},
   "outputs": [],
   "source": [
    "! pip install moviepy\n"
   ]
  },
  {
   "cell_type": "code",
   "execution_count": null,
   "metadata": {},
   "outputs": [],
   "source": [
    "video_file_name = \"stream\""
   ]
  },
  {
   "cell_type": "code",
   "execution_count": null,
   "metadata": {},
   "outputs": [],
   "source": [
    "from moviepy.editor import VideoFileClip\n",
    "\n",
    "def extract_audio(video_file: str, audio_file: str):\n",
    "    \"\"\"Extracts audio from a video file and saves it as an audio file.\"\"\"\n",
    "    try:\n",
    "        with VideoFileClip(video_file) as video:\n",
    "            audio = video.audio\n",
    "            audio.write_audiofile(audio_file)\n",
    "    except Exception as e:\n",
    "        print(f\"Error extracting audio: {e}\")\n",
    "\n",
    "# Usage\n",
    "extract_audio(f\"{video_file_name}.mp4\", \"output_audio.mp3\")"
   ]
  }
 ],
 "metadata": {
  "language_info": {
   "name": "python"
  }
 },
 "nbformat": 4,
 "nbformat_minor": 2
}
